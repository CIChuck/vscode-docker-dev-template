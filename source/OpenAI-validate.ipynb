{
 "cells": [
  {
   "cell_type": "code",
   "execution_count": null,
   "metadata": {},
   "outputs": [],
   "source": [
    "import os\n",
    "import datetime as dt\n",
    "import utilities as ut\n",
    "from dotenv import load_dotenv\n",
    "\n",
    "load_dotenv()\n",
    "\n",
    "OPENAI_API_KEY = os.getenv('OPENAI_API_KEY')\n",
    "\n",
    "assert OPENAI_API_KEY is not None , \"OPENAI API Key must be included in the .env file within project root directory\"\n",
    "\n",
    "print(f\"OPEN_API_KEY: {OPENAI_API_KEY}\")\n",
    "print(ut.time_stamp())\n",
    "\n"
   ]
  },
  {
   "cell_type": "code",
   "execution_count": null,
   "metadata": {},
   "outputs": [],
   "source": [
    "#Tests the OAI Base Class\n",
    "\n",
    "import llm as llm\n",
    "import json\n",
    "a=llm.OAI()\n",
    "\n",
    "x  = a.get_chatresponse(prompt=\"What is life? keep it short\", max_tokens=25)\n",
    "print(x)\n",
    "print(a.tot_tokens_out)\n",
    "\n",
    "print(a.formattedSystemPrompt)\n",
    "y = a.get_JSON_response(prompt=\"make a short list of favorite foods with caloric measures by unit of measure for each\",\n",
    "                        max_tokens=1000)\n",
    "print(y)\n",
    "\n",
    "jl = json.loads(y)\n",
    "print(jl) \n",
    "\n"
   ]
  },
  {
   "cell_type": "code",
   "execution_count": null,
   "metadata": {},
   "outputs": [],
   "source": [
    "#More OAI tests\n",
    "\n",
    "import llm\n",
    "import utilities as u\n",
    "\n",
    "li = u.LoremIpsumGenerator()\n",
    "\n",
    "prompt = \"Once upon a time,\"\n",
    "\n",
    "a = llm.OAI()   \n",
    "\n",
    "response = a.get_chatresponse(prompt=\"What is life?\")\n",
    "print(response)\n",
    " \n",
    "response = a.get_chatresponse(prompt = \"Please complete the following:\"+li.generate())\n",
    "print(response)\n",
    "\n",
    "Joker = \"you are a professional comedian who tells jokes in the style of Steven Wright\" \n",
    "\n",
    "jokester = llm.OAI(systemPrompt=Joker)\n",
    "p = \"create a list of 5 one liner jokes, list each in JSON format\"\n",
    "\n",
    "response = a.get_JSON_response(prompt = p, max_tokens= 1000)\n",
    "print(response)\n",
    "\n",
    "response = a.get_chatresponse(prompt=\"who won the World Series last year?\")\n",
    "print(response)\n",
    "\n",
    "print(a.get_full_response())\n",
    "\n",
    "print(u.time_stamp())\n",
    "\n",
    "\n"
   ]
  },
  {
   "cell_type": "code",
   "execution_count": null,
   "metadata": {},
   "outputs": [],
   "source": [
    "#TEST AZURE OpenAI class\n",
    "\n",
    "import llm as llm\n",
    "a = llm.AzureOAI(model=\"cigpt4std\")\n",
    "x  = a.get_chatresponse(prompt=\"What is life? keep it short\", max_tokens=25)\n",
    "print(x)\n",
    "print(a.tokens_out)\n",
    "\n",
    "b= llm.AzureOAI(model=\"cigpt4\")\n",
    "xx  = a.get_chatresponse(prompt=\"write a haiku\", max_tokens=25)\n",
    "print(xx)\n",
    "print(a.tot_tokens_in)\n",
    "\n",
    "b= llm.AzureOAI(model=\"cigpt-1106\") \n",
    "xx  = a.get_chatresponse(prompt=\"write a haiku\", max_tokens=25)\n",
    "print(xx)\n",
    "print(a.tot_tokens_out)"
   ]
  },
  {
   "cell_type": "code",
   "execution_count": null,
   "metadata": {},
   "outputs": [],
   "source": [
    "#test Anthropic Base class\n",
    "\n",
    "import llm as llm\n",
    "\n",
    "a = llm.Anthropic()  \n",
    "\n",
    "response, tok_in, tok_out = a.get_chatresponse(prompt=\"What is life, keep your response short\", max_tokens=50)\n",
    "\n",
    "print(response)\n",
    "print(a.tokens_in, a.tokens_out)"
   ]
  },
  {
   "cell_type": "code",
   "execution_count": null,
   "metadata": {},
   "outputs": [],
   "source": [
    "#Test Databricks DBRX Base Class\n",
    " \n",
    "import llm as llm\n",
    "a = llm.Databricks()\n",
    "x  = a.get_chatresponse(prompt=\"What is life? keep it short\", max_tokens=25, temperature=0)\n",
    "print(x)\n"
   ]
  },
  {
   "cell_type": "code",
   "execution_count": null,
   "metadata": {},
   "outputs": [],
   "source": [
    "#Test LLM Studio Models\n",
    "\n",
    "#model = \"QuantFactory/Meta-Llama-3-8B-Instruct-GGUF\"\n",
    "model = \"MaziyarPanahi/Meta-Llama-3-70B-Instruct-GGUF\"\n",
    "\n",
    "import llm as llm\n",
    "a = llm.LLmStudio(model=model, systemPrompt=\"You are a helpful assistant\")\n",
    "x  = a.get_chatresponse(prompt=\"ask a meaningful question\", max_tokens=200)\n",
    "print(x)"
   ]
  },
  {
   "cell_type": "code",
   "execution_count": 18,
   "metadata": {},
   "outputs": [
    {
     "data": {
      "text/markdown": [
       "> ## The Enchanted Backpack\n",
       "> \n",
       "> In a quaint little town nestled amidst rolling hills, there lived a young girl named Anya. Amidst the ordinary days, her life took an extraordinary turn when she stumbled upon a hidden treasure—a peculiar backpack adorned with shimmering stars and intricate runes.\n",
       "> \n",
       "> As Anya unzipped the backpack, a surge of magic coursed through her hand. Its spacious interior revealed a vast, ethereal realm where objects seemed to float weightlessly. Curiosity propelled her to reach inside, and as her fingers brushed against a smooth leather notebook, she felt a peculiar connection.\n",
       "> \n",
       "> Unbeknownst to Anya, the notebook possessed the power to grant wishes. With each word she wrote, the words danced off the page and materialized into reality. Overjoyed, Anya scribbled down her heart's desires: a vibrant garden filled with exotic flowers, a magnificent castle towering over the town, and a shimmering lake that reflected the stars.\n",
       "> \n",
       "> As the days turned into nights, Anya's wishes unfolded before her eyes. The town transformed into a vibrant tapestry of colors and scents, the castle stood as a testament to her dreams, and the lake became a mesmerizing mirror that reflected the cosmos.\n",
       "> \n",
       "> However, with great power came great responsibility. Anya soon realized that her wishes had unintended consequences. The garden attracted unwelcome creatures, the castle cast a long shadow over the town, and the lake's serenity was disrupted by selfish desires.\n",
       "> \n",
       "> Haunted by guilt, Anya decided to use the notebook to undo the chaos she had created. With a trembling hand, she wrote, \"Let the town be as it was, let the dreams fade into memory.\"\n",
       "> \n",
       "> As the words faded from the page, the magical creations vanished into thin air. The town returned to its peaceful existence, the scars of the past erased. Anya learned a valuable lesson that day—the power to make wishes was not to be taken lightly.\n",
       "> \n",
       "> From that day forward, Anya became a guardian of the enchanted backpack. She used its magic sparingly, only for acts of kindness and when necessary. And so, the legend of the magic backpack was passed down through generations, a reminder that even the most extraordinary gifts could have unintended consequences."
      ],
      "text/plain": [
       "<IPython.core.display.Markdown object>"
      ]
     },
     "execution_count": 18,
     "metadata": {},
     "output_type": "execute_result"
    }
   ],
   "source": [
    "#Test Google Base class\n",
    "\n",
    "# Import the Python SDK\n",
    "import google.generativeai as genai\n",
    "import textwrap\n",
    "from IPython.display import display\n",
    "from IPython.display import Markdown\n",
    "import dotenv\n",
    "import os\n",
    "\n",
    "def to_markdown(text):\n",
    "  #text = text.replace('#', '  *')\n",
    "  return Markdown(textwrap.indent(text, '> ', predicate=lambda _: True))\n",
    "\n",
    "# Used to securely store your API key\n",
    "GOOGLE_API_KEY = os.getenv('GOOGLE_API_KEY')\n",
    "\n",
    "genai.configure(api_key=GOOGLE_API_KEY)\n",
    "\n",
    "model = genai.GenerativeModel('gemini-pro')\n",
    "\n",
    "response = model.generate_content(\"Write a story about a magic backpack. output it in mardown.\")\n",
    "to_markdown(response.text)\n",
    "#print(response.text)\n"
   ]
  },
  {
   "cell_type": "code",
   "execution_count": 19,
   "metadata": {},
   "outputs": [
    {
     "name": "stdout",
     "output_type": "stream",
     "text": [
      "## The Magic Backpack\n",
      "\n",
      "Once upon a time, there was a young girl named\n",
      "________________________________________________________________________________\n",
      " Lily who was very creative. She loved to write stories, draw pictures, and make up songs. One day, Lily's grandmother gave her a special backpack\n",
      "________________________________________________________________________________\n",
      ".\n",
      "\n",
      "\"This is no ordinary backpack,\" her grandmother said. \"It's a magic backpack. Inside, you will find everything you need to make your dreams come true.\"\n",
      "\n",
      "Lily couldn't wait to see what was inside the magic backpack. She opened it up and found all sorts of wonderful things:\n",
      "\n",
      "\n",
      "________________________________________________________________________________\n",
      "* A pencil that never ran out of lead\n",
      "* A paintbrush that could paint any color in the rainbow\n",
      "* A musical instrument that could play any song\n",
      "* A book that contained all the stories she had ever written\n",
      "\n",
      "Lily was so excited. She couldn't wait to start using her magic backpack to create her dreams.\n",
      "\n",
      "One day, Lily decided to write a story about a brave princess who went on a quest to save her kingdom. She used the pencil that never ran out of lead to write the story, and the paintbrush that could paint any color in the rainbow to illustrate it.\n",
      "\n",
      "When she was finished,\n",
      "________________________________________________________________________________\n",
      " Lily used the musical instrument that could play any song to compose a song about the princess's adventures. She sang the song while she flipped through the book that contained all the stories she had ever written.\n",
      "\n",
      "Lily's story was so good that she decided to enter it in a writing contest. She was so nervous, but she knew that she had done her best.\n",
      "\n",
      "When the results of the contest were announced, Lily was shocked to learn that she had won! She couldn't believe that her dream had come true.\n",
      "\n",
      "Lily's magic backpack had helped her to make her dreams come true. She knew that she would always treasure it, and she would always be grateful to her grandmother for giving it to her.\n",
      "________________________________________________________________________________\n"
     ]
    }
   ],
   "source": [
    "\n",
    "# Import the Python SDK\n",
    "import google.generativeai as genai\n",
    "import textwrap\n",
    "from IPython.display import display\n",
    "from IPython.display import Markdown\n",
    "import dotenv\n",
    "import os\n",
    "\n",
    "def to_markdown(text):\n",
    "  text = text.replace('•', '  *')\n",
    "  return Markdown(textwrap.indent(text, '> ', predicate=lambda _: True))\n",
    "\n",
    "# Used to securely store your API key\n",
    "GOOGLE_API_KEY = os.getenv('GOOGLE_API_KEY')\n",
    "\n",
    "genai.configure(api_key=GOOGLE_API_KEY)\n",
    "\n",
    "model = genai.GenerativeModel('gemini-pro')\n",
    "\n",
    "prompt=\"You are a famous,gifted children's author. Write a short story about a magic backpack. output it in mardown.\"\n",
    "response = model.generate_content(prompt, stream=True)\n",
    "\n",
    "for chunk in response:\n",
    "  print(chunk.text)\n",
    "  print(\"_\"*80)\n"
   ]
  },
  {
   "cell_type": "code",
   "execution_count": null,
   "metadata": {},
   "outputs": [],
   "source": []
  }
 ],
 "metadata": {
  "kernelspec": {
   "display_name": "my_python_dev",
   "language": "python",
   "name": "python3"
  },
  "language_info": {
   "codemirror_mode": {
    "name": "ipython",
    "version": 3
   },
   "file_extension": ".py",
   "mimetype": "text/x-python",
   "name": "python",
   "nbconvert_exporter": "python",
   "pygments_lexer": "ipython3",
   "version": "3.11.9"
  }
 },
 "nbformat": 4,
 "nbformat_minor": 2
}
