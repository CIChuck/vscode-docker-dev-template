{
 "cells": [
  {
   "cell_type": "code",
   "execution_count": 18,
   "metadata": {},
   "outputs": [
    {
     "ename": "ModuleNotFoundError",
     "evalue": "No module named 'agent_studio'",
     "output_type": "error",
     "traceback": [
      "\u001b[0;31m---------------------------------------------------------------------------\u001b[0m",
      "\u001b[0;31mModuleNotFoundError\u001b[0m                       Traceback (most recent call last)",
      "Cell \u001b[0;32mIn[18], line 4\u001b[0m\n\u001b[1;32m      1\u001b[0m \u001b[38;5;28;01mimport\u001b[39;00m \u001b[38;5;21;01mos\u001b[39;00m\n\u001b[1;32m      2\u001b[0m \u001b[38;5;28;01mimport\u001b[39;00m \u001b[38;5;21;01mdatetime\u001b[39;00m \u001b[38;5;28;01mas\u001b[39;00m \u001b[38;5;21;01mdt\u001b[39;00m\n\u001b[0;32m----> 4\u001b[0m \u001b[38;5;28;01mfrom\u001b[39;00m \u001b[38;5;21;01magent_studio\u001b[39;00m\u001b[38;5;21;01m.\u001b[39;00m\u001b[38;5;21;01mutils\u001b[39;00m\u001b[38;5;21;01m.\u001b[39;00m\u001b[38;5;21;01mutilities\u001b[39;00m \u001b[38;5;28;01mimport\u001b[39;00m time_stamp\n\u001b[1;32m      6\u001b[0m \u001b[38;5;28;01mfrom\u001b[39;00m \u001b[38;5;21;01mdotenv\u001b[39;00m \u001b[38;5;28;01mimport\u001b[39;00m load_dotenv\n\u001b[1;32m      8\u001b[0m load_dotenv()\n",
      "\u001b[0;31mModuleNotFoundError\u001b[0m: No module named 'agent_studio'"
     ]
    }
   ],
   "source": [
    "import os\n",
    "import datetime as dt\n",
    "\n",
    "from agent_studio.utils.utilities import time_stamp\n",
    "\n",
    "from dotenv import load_dotenv\n",
    "\n",
    "load_dotenv()\n",
    "\n",
    "OPENAI_API_KEY = os.getenv('OPENAI_API_KEY')\n",
    "\n",
    "assert OPENAI_API_KEY is not None , \"OPENAI API Key must be included in the .env file within project root directory\"\n",
    "\n",
    "print(f\"OPEN_API_KEY: {OPENAI_API_KEY}\")\n",
    "print(time_stamp())\n",
    "\n"
   ]
  },
  {
   "cell_type": "code",
   "execution_count": 2,
   "metadata": {},
   "outputs": [
    {
     "ename": "ModuleNotFoundError",
     "evalue": "No module named 'agent_studio'",
     "output_type": "error",
     "traceback": [
      "\u001b[0;31m---------------------------------------------------------------------------\u001b[0m",
      "\u001b[0;31mModuleNotFoundError\u001b[0m                       Traceback (most recent call last)",
      "Cell \u001b[0;32mIn[2], line 3\u001b[0m\n\u001b[1;32m      1\u001b[0m \u001b[38;5;66;03m#Tests the OAI Base Class\u001b[39;00m\n\u001b[0;32m----> 3\u001b[0m \u001b[38;5;28;01mfrom\u001b[39;00m \u001b[38;5;21;01magent_studio\u001b[39;00m\u001b[38;5;21;01m.\u001b[39;00m\u001b[38;5;21;01mmodels\u001b[39;00m\u001b[38;5;21;01m.\u001b[39;00m\u001b[38;5;21;01mllm\u001b[39;00m \u001b[38;5;28;01mimport\u001b[39;00m OAI\n\u001b[1;32m      4\u001b[0m \u001b[38;5;28;01mimport\u001b[39;00m \u001b[38;5;21;01mjson\u001b[39;00m\n\u001b[1;32m      5\u001b[0m a\u001b[38;5;241m=\u001b[39mllm\u001b[38;5;241m.\u001b[39mOAI()\n",
      "\u001b[0;31mModuleNotFoundError\u001b[0m: No module named 'agent_studio'"
     ]
    }
   ],
   "source": [
    "#Tests the OAI Base Class\n",
    "\n",
    "from agent_studio.models.llm import OAI\n",
    "import json\n",
    "a=llm.OAI()\n",
    "\n",
    "x  = a.get_chatresponse(prompt=\"What is life? keep it short\", max_tokens=25)\n",
    "print(x)\n",
    "print(a.tot_tokens_out)\n",
    "\n",
    "print(a.formattedSystemPrompt)\n",
    "y = a.get_JSON_response(prompt=\"make a short list of favorite foods with caloric measures by unit of measure for each\",\n",
    "                        max_tokens=1000)\n",
    "print(y)\n",
    "\n",
    "jl = json.loads(y)\n",
    "print(jl) \n",
    "\n"
   ]
  },
  {
   "cell_type": "code",
   "execution_count": null,
   "metadata": {},
   "outputs": [],
   "source": [
    "#More OAI tests\n",
    "\n",
    "from agent_studio.models.llm import OAI\n",
    "from agent_studio.utils.utilities import LoremIpsumGenerator\n",
    "\n",
    "li = LoremIpsumGenerator()\n",
    "\n",
    "prompt = \"Once upon a time,\"\n",
    "\n",
    "a = OAI()   \n",
    "\n",
    "response = a.get_chatresponse(prompt=\"What is life?\")\n",
    "print(response)\n",
    " \n",
    "response = a.get_chatresponse(prompt = \"Please complete the following:\"+li.generate())\n",
    "print(response)\n",
    "\n",
    "Joker = \"you are a professional comedian who tells jokes in the style of Steven Wright\" \n",
    "\n",
    "jokester = OAI(systemPrompt=Joker)\n",
    "p = \"create a list of 5 one liner jokes, list each in JSON format\"\n",
    "\n",
    "response = a.get_JSON_response(prompt = p, max_tokens= 1000)\n",
    "print(response)\n",
    "\n",
    "response = a.get_chatresponse(prompt=\"who won the World Series last year?\")\n",
    "print(response)\n",
    "\n",
    "print(a.get_full_response())\n",
    "\n",
    "print(u.time_stamp())\n",
    "\n",
    "\n"
   ]
  },
  {
   "cell_type": "code",
   "execution_count": null,
   "metadata": {},
   "outputs": [],
   "source": [
    "#TEST AZURE OpenAI class\n",
    "\n",
    "from agent_studio.models.llm import AzureOAI\n",
    "a = AzureOAI(model=\"cigpt4std\")\n",
    "x  = a.get_chatresponse(prompt=\"What is life? keep it short\", max_tokens=25)\n",
    "print(x)\n",
    "print(a.tokens_out)\n",
    "\n",
    "b= AzureOAI(model=\"cigpt4\")\n",
    "xx  = a.get_chatresponse(prompt=\"write a haiku\", max_tokens=25)\n",
    "print(xx)\n",
    "print(a.tot_tokens_in)\n",
    "\n",
    "b= AzureOAI(model=\"cigpt-1106\") \n",
    "xx  = a.get_chatresponse(prompt=\"write a haiku\", max_tokens=25)\n",
    "print(xx)\n",
    "print(a.tot_tokens_out)"
   ]
  },
  {
   "cell_type": "code",
   "execution_count": null,
   "metadata": {},
   "outputs": [],
   "source": [
    "#test Anthropic Base class\n",
    "\n",
    "from agent_studio.models.llm import Anthropic\n",
    "\n",
    "a = Anthropic()  \n",
    "\n",
    "response, tok_in, tok_out = a.get_chatresponse(prompt=\"What is life, keep your response short\", max_tokens=50)\n",
    "\n",
    "print(response)\n",
    "print(a.tokens_in, a.tokens_out)"
   ]
  },
  {
   "cell_type": "code",
   "execution_count": null,
   "metadata": {},
   "outputs": [],
   "source": [
    "#Test Databricks DBRX Base Class\n",
    " \n",
    "from agent_studio.models.llm import Databricks\n",
    "a = Databricks()\n",
    "x  = a.get_chatresponse(prompt=\"What is life? keep it short\", max_tokens=25, temperature=0)\n",
    "print(x)\n"
   ]
  },
  {
   "cell_type": "code",
   "execution_count": null,
   "metadata": {},
   "outputs": [],
   "source": [
    "#Test LLM Studio Models\n",
    "\n",
    "#model = \"QuantFactory/Meta-Llama-3-8B-Instruct-GGUF\"\n",
    "model = \"MaziyarPanahi/Meta-Llama-3-70B-Instruct-GGUF\"\n",
    "\n",
    "from agent_studio.models.llm import LLmStudio\n",
    "\n",
    "a = LLmStudio(model=model, systemPrompt=\"You are a helpful assistant\")\n",
    "x  = a.get_chatresponse(prompt=\"ask a meaningful question\", max_tokens=200)\n",
    "print(x)"
   ]
  },
  {
   "cell_type": "code",
   "execution_count": null,
   "metadata": {},
   "outputs": [],
   "source": [
    "#Test Google Base class\n",
    "\n",
    "# Import the Python SDK\n",
    "import google.generativeai as genai\n",
    "import textwrap\n",
    "from IPython.display import display\n",
    "from IPython.display import Markdown\n",
    "import dotenv\n",
    "import os\n",
    "\n",
    "def to_markdown(text):\n",
    "  #text = text.replace('#', '  *')\n",
    "  return Markdown(textwrap.indent(text, '> ', predicate=lambda _: True))\n",
    "\n",
    "# Used to securely store your API key\n",
    "GOOGLE_API_KEY = os.getenv('GOOGLE_API_KEY')\n",
    "\n",
    "genai.configure(api_key=GOOGLE_API_KEY)\n",
    "\n",
    "model = genai.GenerativeModel('gemini-pro')\n",
    "\n",
    "response = model.generate_content(\"Write a story about a magic backpack. output it in mardown.\")\n",
    "to_markdown(response.text)\n",
    "#print(response.text)\n"
   ]
  },
  {
   "cell_type": "code",
   "execution_count": null,
   "metadata": {},
   "outputs": [],
   "source": [
    "\n",
    "# Import the Python SDK\n",
    "import google.generativeai as genai\n",
    "import textwrap\n",
    "from IPython.display import display\n",
    "from IPython.display import Markdown\n",
    "import dotenv\n",
    "import os\n",
    "\n",
    "def to_markdown(text):\n",
    "  text = text.replace('•', '  *')\n",
    "  return Markdown(textwrap.indent(text, '> ', predicate=lambda _: True))\n",
    "\n",
    "# Used to securely store your API key\n",
    "GOOGLE_API_KEY = os.getenv('GOOGLE_API_KEY')\n",
    "\n",
    "genai.configure(api_key=GOOGLE_API_KEY)\n",
    "\n",
    "model = genai.GenerativeModel('gemini-pro')\n",
    "\n",
    "prompt=\"You are a famous,gifted children's author. Write a short story about a magic backpack. output it in mardown.\"\n",
    "response = model.generate_content(prompt, stream=True)\n",
    "\n",
    "for chunk in response:\n",
    "  print(chunk.text)\n",
    "  print(\"_\"*80)\n"
   ]
  },
  {
   "cell_type": "code",
   "execution_count": null,
   "metadata": {},
   "outputs": [],
   "source": []
  }
 ],
 "metadata": {
  "kernelspec": {
   "display_name": "my_python_dev",
   "language": "python",
   "name": "python3"
  },
  "language_info": {
   "codemirror_mode": {
    "name": "ipython",
    "version": 3
   },
   "file_extension": ".py",
   "mimetype": "text/x-python",
   "name": "python",
   "nbconvert_exporter": "python",
   "pygments_lexer": "ipython3",
   "version": "3.11.9"
  }
 },
 "nbformat": 4,
 "nbformat_minor": 2
}
