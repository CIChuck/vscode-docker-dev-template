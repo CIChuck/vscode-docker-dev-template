{
 "cells": [
  {
   "cell_type": "code",
   "execution_count": null,
   "metadata": {},
   "outputs": [],
   "source": [
    "#Note: The openai-python library support for Azure OpenAI is in preview.\n",
    "      #Note: This code sample requires OpenAI Python library version 1.0.0 or higher.\n",
    "\n",
    "import os\n",
    "from openai import AzureOpenAI\n",
    "\n",
    "from dotenv import load_dotenv\n",
    "load_dotenv()\n",
    "\n",
    "client = AzureOpenAI(\n",
    "  azure_endpoint = \"https://aistudioenhanced.openai.azure.com/\", \n",
    "  api_key=os.getenv(\"AZURE_OPENAI_KEY\"),  \n",
    "  api_version=\"2024-02-15-preview\"\n",
    ")\n",
    "\n",
    "message_text = [{\"role\":\"system\",\"content\":\"Assistant is an AI chatbot that helps users turn a natural language list into JSON format. After users input a list they want in JSON format, it will provide suggested list of attribute labels if the user has not provided any, then ask the user to confirm them before creating the list.\"},{\"role\":\"user\",\"content\":\"what is life\"},{\"role\":\"assistant\",\"content\":\"\\\"Life\\\" is a complex concept with many interpretations. In a biological context, life can be defined as a characteristic that distinguishes entities that have self-sustaining processes (i.e., living organisms) from those that do not—either because such functions have ceased (death), or else because they never had such functions and are classified as inanimate. \\n\\nIn a philosophical context, life might be considered to be the condition that separates organisms from inorganic objects—i.e., \\\"living\\\" things contain some form of life force or consciousness.\\n\\nIn a broader, existential context, \\\"life\\\" might refer to the experience of being alive and living through various events and stages.\\n\\nPlease note that this is a very simplified explanation and the concept of \\\"life\\\" can be much more complex and nuanced depending on the context.\"}]\n",
    "\n",
    "response = client.chat.completions.create(\n",
    "  model=\"cigpt4\", # model = \"deployment_name\"\n",
    "  messages = message_text,\n",
    "  temperature=0.2,\n",
    "  max_tokens=350,\n",
    "  top_p=0.95,\n",
    "  frequency_penalty=0,\n",
    "  presence_penalty=0,\n",
    "  stop=None\n",
    ")\n",
    "\n",
    "print(response)\n",
    "\n",
    "response.usage.prompt_tokens"
   ]
  },
  {
   "cell_type": "code",
   "execution_count": 2,
   "metadata": {},
   "outputs": [
    {
     "name": "stdout",
     "output_type": "stream",
     "text": [
      "Life is a complex, unique process of existence, growth, and change experienced by living organisms, characterized by birth, reproduction,\n"
     ]
    }
   ],
   "source": [
    "import llm\n",
    "\n",
    "a = llm.AzureOAI()\n",
    "\n",
    "x  = a.get_chatresponse(prompt=\"What is life? keep it short\", max_tokens=25)\n",
    "\n",
    "print(x)"
   ]
  }
 ],
 "metadata": {
  "kernelspec": {
   "display_name": "my_python_dev",
   "language": "python",
   "name": "python3"
  },
  "language_info": {
   "codemirror_mode": {
    "name": "ipython",
    "version": 3
   },
   "file_extension": ".py",
   "mimetype": "text/x-python",
   "name": "python",
   "nbconvert_exporter": "python",
   "pygments_lexer": "ipython3",
   "version": "3.11.9"
  }
 },
 "nbformat": 4,
 "nbformat_minor": 2
}
