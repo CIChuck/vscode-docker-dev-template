{
 "cells": [
  {
   "cell_type": "code",
   "execution_count": null,
   "metadata": {},
   "outputs": [],
   "source": [
    "#Note: The openai-python library support for Azure OpenAI is in preview.\n",
    "      #Note: This code sample requires OpenAI Python library version 1.0.0 or higher.\n",
    "\n",
    "import os\n",
    "from openai import AzureOpenAI\n",
    "\n",
    "from dotenv import load_dotenv\n",
    "load_dotenv()\n",
    "\n",
    "client = AzureOpenAI(\n",
    "  azure_endpoint = \"https://aistudioenhanced.openai.azure.com/\", \n",
    "  api_key=os.getenv(\"AZURE_OPENAI_KEY\"),  \n",
    "  api_version=\"2024-02-15-preview\"\n",
    ")\n",
    "\n",
    "message_text = [{\"role\":\"system\",\"content\":\"Assistant is an AI chatbot that helps users turn a natural language list into JSON format. After users input a list they want in JSON format, it will provide suggested list of attribute labels if the user has not provided any, then ask the user to confirm them before creating the list.\"},\n",
    "                {\"role\":\"user\",\"content\":\"what is life\"}\n",
    "               ]\n",
    "\n",
    "response = client.chat.completions.create(\n",
    "  model=\"cigpt4\", # model = \"deployment_name\"\n",
    "  messages = message_text,\n",
    "  temperature=0.2,\n",
    "  max_tokens=350,\n",
    "  top_p=0.95,\n",
    "  frequency_penalty=0,\n",
    "  presence_penalty=0,\n",
    "  stop=None\n",
    ")\n",
    "\n",
    "print(response)\n",
    "\n",
    "response.usage.prompt_tokens"
   ]
  },
  {
   "cell_type": "code",
   "execution_count": 1,
   "metadata": {},
   "outputs": [
    {
     "name": "stdout",
     "output_type": "stream",
     "text": [
      "Life is a complex journey of experiences and growth, characterized by birth, reproduction, and death, often involving adaptation to the environment\n",
      "Gentle morning light,\n",
      "Whispers through the silent trees,\n",
      "Nature's song takes flight.\n",
      "Golden leaves falling,\n",
      "Whispers of the autumn wind,\n",
      "Nature's song is sung.\n"
     ]
    }
   ],
   "source": [
    "import llm\n",
    "a = llm.AzureOAI(model=\"cigpt4std\")\n",
    "x  = a.get_chatresponse(prompt=\"What is life? keep it short\", max_tokens=25)\n",
    "print(x)\n",
    "\n",
    "b= llm.AzureOAI(model=\"cigpt4\")\n",
    "xx  = a.get_chatresponse(prompt=\"write a haiku\", max_tokens=25)\n",
    "print(xx)\n",
    "\n",
    "b= llm.AzureOAI(model=\"cigpt-1106\") \n",
    "xx  = a.get_chatresponse(prompt=\"write a haiku\", max_tokens=25)\n",
    "print(xx)\n"
   ]
  },
  {
   "cell_type": "code",
   "execution_count": null,
   "metadata": {},
   "outputs": [],
   "source": [
    "import json\n",
    "import llm\n",
    "\n",
    "jj= llm.AzureOAI(model=\"cigpt-1106\") \n",
    "jjo = jj.get_JSON_response(prompt=\"make a short list of favorite foods with caloric measures by unit of measure for each\", max_tokens=1000)\n",
    "\n",
    "print(jjo)\n",
    "print(jj.tot_tokens_out)\n",
    "\n",
    "jl = json.loads(jjo)\n",
    "print(jl)"
   ]
  },
  {
   "cell_type": "code",
   "execution_count": null,
   "metadata": {},
   "outputs": [],
   "source": [
    "import os\n",
    "from openai import AzureOpenAI\n",
    "from dotenv import load_dotenv\n",
    "\n",
    "load_dotenv()\n",
    "\n",
    "client = AzureOpenAI(\n",
    "    azure_endpoint = \"https://aistudioenhanced.openai.azure.com/\", \n",
    "    api_key=os.getenv(\"AZURE_OPENAI_KEY\"),  \n",
    "    api_version=\"2024-02-15-preview\"\n",
    ")\n",
    "\n",
    "response = client.chat.completions.create(\n",
    "  model=\"cigpt-1106\", \n",
    "  max_tokens = 1000,\n",
    "  temperature = 0,\n",
    "  stream=False,\n",
    "  #response_format={ \"type\": \"json_object\" },\n",
    "  messages=[\n",
    "    {\"role\": \"system\", \"content\": \"You are a helpful assistant designed to output JSON.\"},\n",
    "    {\"role\": \"user\", \"content\": \"Who won the world series from 1990 through 2020?\"}\n",
    "  ]\n",
    ")\n",
    "\n",
    "print(response.choices[0].message.content)"
   ]
  }
 ],
 "metadata": {
  "kernelspec": {
   "display_name": "my_python_dev",
   "language": "python",
   "name": "python3"
  },
  "language_info": {
   "codemirror_mode": {
    "name": "ipython",
    "version": 3
   },
   "file_extension": ".py",
   "mimetype": "text/x-python",
   "name": "python",
   "nbconvert_exporter": "python",
   "pygments_lexer": "ipython3",
   "version": "3.11.9"
  }
 },
 "nbformat": 4,
 "nbformat_minor": 2
}
