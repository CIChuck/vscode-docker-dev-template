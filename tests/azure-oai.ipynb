{
 "cells": [
  {
   "cell_type": "code",
   "execution_count": 2,
   "metadata": {},
   "outputs": [
    {
     "name": "stdout",
     "output_type": "stream",
     "text": [
      "ChatCompletion(id='chatcmpl-9FSF8wTrTOFSiGhKZhmBHnREd7fpo', choices=[Choice(finish_reason='stop', index=0, logprobs=None, message=ChatCompletionMessage(content='\"Life\" is a complex concept with many interpretations. In biological terms, life can be defined as a characteristic that distinguishes organisms with self-sustaining processes from inanimate objects. It involves growth, reproduction, functional activity, and the continual change preceding death.\\n\\nIn a philosophical context, life might be considered a journey, an opportunity, or a challenge. It can be seen as a chance to experience, learn, and grow. \\n\\nIn a more spiritual or religious context, life might be seen as a divine gift, a test, or a mission.\\n\\nPlease note that the interpretation of \"life\" can vary greatly depending on personal beliefs, cultural background, and individual experiences. \\n\\nIf you were asking for something else, could you please provide more context?', role='assistant', function_call=None, tool_calls=None), content_filter_results={'hate': {'filtered': False, 'severity': 'safe'}, 'self_harm': {'filtered': False, 'severity': 'safe'}, 'sexual': {'filtered': False, 'severity': 'safe'}, 'violence': {'filtered': False, 'severity': 'safe'}})], created=1713470514, model='gpt-4-32k', object='chat.completion', system_fingerprint=None, usage=CompletionUsage(completion_tokens=152, prompt_tokens=71, total_tokens=223), prompt_filter_results=[{'prompt_index': 0, 'content_filter_results': {'hate': {'filtered': False, 'severity': 'safe'}, 'self_harm': {'filtered': False, 'severity': 'safe'}, 'sexual': {'filtered': False, 'severity': 'safe'}, 'violence': {'filtered': False, 'severity': 'safe'}}}])\n"
     ]
    },
    {
     "data": {
      "text/plain": [
       "71"
      ]
     },
     "execution_count": 2,
     "metadata": {},
     "output_type": "execute_result"
    }
   ],
   "source": [
    "#Note: The openai-python library support for Azure OpenAI is in preview.\n",
    "      #Note: This code sample requires OpenAI Python library version 1.0.0 or higher.\n",
    "\n",
    "import os\n",
    "from openai import AzureOpenAI\n",
    "\n",
    "from dotenv import load_dotenv\n",
    "load_dotenv()\n",
    "\n",
    "client = AzureOpenAI(\n",
    "  azure_endpoint = \"https://aistudioenhanced.openai.azure.com/\", \n",
    "  api_key=os.getenv(\"AZURE_OPENAI_KEY\"),  \n",
    "  api_version=\"2024-02-15-preview\"\n",
    ")\n",
    "\n",
    "message_text = [{\"role\":\"system\",\"content\":\"Assistant is an AI chatbot that helps users turn a natural language list into JSON format. After users input a list they want in JSON format, it will provide suggested list of attribute labels if the user has not provided any, then ask the user to confirm them before creating the list.\"},\n",
    "                {\"role\":\"user\",\"content\":\"what is life\"}\n",
    "               ]\n",
    "\n",
    "response = client.chat.completions.create(\n",
    "  model=\"cigpt4\", # model = \"deployment_name\"\n",
    "  messages = message_text,\n",
    "  temperature=0.2,\n",
    "  max_tokens=350,\n",
    "  top_p=0.95,\n",
    "  frequency_penalty=0,\n",
    "  presence_penalty=0,\n",
    "  stop=None\n",
    ")\n",
    "\n",
    "print(response)\n",
    "\n",
    "response.usage.prompt_tokens"
   ]
  },
  {
   "cell_type": "code",
   "execution_count": 3,
   "metadata": {},
   "outputs": [
    {
     "name": "stdout",
     "output_type": "stream",
     "text": [
      "Life is a complex, unique process of existence, growth, and change experienced by living organisms, characterized by birth, reproduction,\n",
      "Moonlight's gentle touch,\n",
      "Whispers in the silent night,\n",
      "Peace in dreams we clutch.\n",
      "Gentle morning light,\n",
      "Whispers of the world waking,\n",
      "Day's promise in sight.\n"
     ]
    }
   ],
   "source": [
    "import llm\n",
    "a = llm.AzureOAI(model=\"cigpt4std\")\n",
    "x  = a.get_chatresponse(prompt=\"What is life? keep it short\", max_tokens=25)\n",
    "print(x)\n",
    "\n",
    "b= llm.AzureOAI(model=\"cigpt4\")\n",
    "xx  = a.get_chatresponse(prompt=\"write a haiku\", max_tokens=25)\n",
    "print(xx)\n",
    "\n",
    "b= llm.AzureOAI(model=\"cigpt-1106\") \n",
    "xx  = a.get_chatresponse(prompt=\"write a haiku\", max_tokens=25)\n",
    "print(xx)\n"
   ]
  },
  {
   "cell_type": "code",
   "execution_count": null,
   "metadata": {},
   "outputs": [],
   "source": [
    "import json\n",
    "import llm\n",
    "\n",
    "jj= llm.AzureOAI(model=\"cigpt-1106\") \n",
    "jjo = jj.get_JSON_response(prompt=\"make a short list of favorite foods with caloric measures by unit of measure for each\", max_tokens=1000)\n",
    "\n",
    "print(jjo)\n",
    "print(jj.tot_tokens_out)\n",
    "\n",
    "jl = json.loads(jjo)\n",
    "print(jl)"
   ]
  },
  {
   "cell_type": "code",
   "execution_count": null,
   "metadata": {},
   "outputs": [],
   "source": [
    "import os\n",
    "from openai import AzureOpenAI\n",
    "from dotenv import load_dotenv\n",
    "\n",
    "load_dotenv()\n",
    "\n",
    "client = AzureOpenAI(\n",
    "    azure_endpoint = \"https://aistudioenhanced.openai.azure.com/\", \n",
    "    api_key=os.getenv(\"AZURE_OPENAI_KEY\"),  \n",
    "    api_version=\"2024-02-15-preview\"\n",
    ")\n",
    "\n",
    "response = client.chat.completions.create(\n",
    "  model=\"cigpt-1106\", \n",
    "  max_tokens = 1000,\n",
    "  temperature = 0,\n",
    "  stream=False,\n",
    "  #response_format={ \"type\": \"json_object\" },\n",
    "  messages=[\n",
    "    {\"role\": \"system\", \"content\": \"You are a helpful assistant designed to output JSON.\"},\n",
    "    {\"role\": \"user\", \"content\": \"Who won the world series from 1990 through 2020?\"}\n",
    "  ]\n",
    ")\n",
    "\n",
    "print(response.choices[0].message.content)"
   ]
  }
 ],
 "metadata": {
  "kernelspec": {
   "display_name": "my_python_dev",
   "language": "python",
   "name": "python3"
  },
  "language_info": {
   "codemirror_mode": {
    "name": "ipython",
    "version": 3
   },
   "file_extension": ".py",
   "mimetype": "text/x-python",
   "name": "python",
   "nbconvert_exporter": "python",
   "pygments_lexer": "ipython3",
   "version": "3.11.9"
  }
 },
 "nbformat": 4,
 "nbformat_minor": 2
}
