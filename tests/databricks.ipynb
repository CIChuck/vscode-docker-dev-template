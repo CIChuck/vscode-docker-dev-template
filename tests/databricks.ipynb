{
 "cells": [
  {
   "cell_type": "code",
   "execution_count": 7,
   "metadata": {},
   "outputs": [
    {
     "name": "stdout",
     "output_type": "stream",
     "text": [
      "{\n",
      "\"Apple\": {\n",
      "\"calories\": 95,\n",
      "\"unit_of_measure\": \"medium-sized\"\n",
      "},\n",
      "\"Avocado\": {\n",
      "\"calories\": 234,\n",
      "\"unit_of_measure\": \"medium-sized\"\n",
      "},\n",
      "\"Grilled Chicken Breast\": {\n",
      "\"calories\": 165,\n",
      "\"unit_of_measure\": \"100 grams\"\n",
      "},\n",
      "\"Broccoli\": {\n",
      "\"calories\": 31,\n",
      "\"unit_of_measure\": \"1 cup chopped\"\n",
      "},\n",
      "\"Almonds\": {\n",
      "\"calories\": 161,\n",
      "\"unit_of_measure\": \"23 pieces (1 ounce)\"\n",
      "}\n",
      "}\n",
      "{'Apple': {'calories': 95, 'unit_of_measure': 'medium-sized'}, 'Avocado': {'calories': 234, 'unit_of_measure': 'medium-sized'}, 'Grilled Chicken Breast': {'calories': 165, 'unit_of_measure': '100 grams'}, 'Broccoli': {'calories': 31, 'unit_of_measure': '1 cup chopped'}, 'Almonds': {'calories': 161, 'unit_of_measure': '23 pieces (1 ounce)'}}\n"
     ]
    }
   ],
   "source": [
    "from openai import OpenAI\n",
    "import os\n",
    "import json\n",
    "from dotenv import load_dotenv\n",
    "\n",
    "load_dotenv()\n",
    "        \n",
    "DATABRICKS_TOKEN = os.environ.get('DATABRICKS_TOKEN')\n",
    "        \n",
    "client = OpenAI(\n",
    "  api_key=DATABRICKS_TOKEN,\n",
    "  base_url=\"https://adb-7510379599932114.14.azuredatabricks.net/serving-endpoints\"\n",
    ")\n",
    "        \n",
    "chat_completion = client.chat.completions.create(\n",
    "  messages=[\n",
    "  {\n",
    "    \"role\": \"system\",\n",
    "    \"content\": \"You are an AI assistant\"\n",
    "  },\n",
    "  {\n",
    "    \"role\": \"user\",\n",
    "    \"content\": \"make a short list of favorite foods with caloric measures by unit of measure for each. Respond using JSON only.\"\n",
    "  }\n",
    "  ],\n",
    "  model=\"databricks-dbrx-instruct\",\n",
    "  max_tokens=256,\n",
    "  temperature=0,\n",
    "  stream=False\n",
    ")\n",
    "        \n",
    "print(chat_completion.choices[0].message.content)\n",
    "\n",
    "jl = json.loads(chat_completion.choices[0].message.content)\n",
    "print(jl) "
   ]
  }
 ],
 "metadata": {
  "kernelspec": {
   "display_name": "my_python_dev",
   "language": "python",
   "name": "python3"
  },
  "language_info": {
   "codemirror_mode": {
    "name": "ipython",
    "version": 3
   },
   "file_extension": ".py",
   "mimetype": "text/x-python",
   "name": "python",
   "nbconvert_exporter": "python",
   "pygments_lexer": "ipython3",
   "version": "3.11.9"
  }
 },
 "nbformat": 4,
 "nbformat_minor": 2
}
