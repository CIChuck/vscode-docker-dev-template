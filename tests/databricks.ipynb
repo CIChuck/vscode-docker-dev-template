{
 "cells": [
  {
   "cell_type": "code",
   "execution_count": 1,
   "metadata": {},
   "outputs": [
    {
     "name": "stdout",
     "output_type": "stream",
     "text": [
      "{\n",
      "\"Apple\": {\n",
      "\"calories\": 95,\n",
      "\"unit_of_measure\": \"medium-sized\"\n",
      "},\n",
      "\"Avocado\": {\n",
      "\"calories\": 234,\n",
      "\"unit_of_measure\": \"medium-sized\"\n",
      "},\n",
      "\"Chicken Breast\": {\n",
      "\"calories\": 165,\n",
      "\"unit_of_measure\": \"100 grams\"\n",
      "},\n",
      "\"Broccoli\": {\n",
      "\"calories\": 31,\n",
      "\"unit_of_measure\": \"per cup, chopped\"\n",
      "},\n",
      "\"Almonds\": {\n",
      "\"calories\": 161,\n",
      "\"unit_of_measure\": \"ounce\"\n",
      "},\n",
      "\"Salmon\": {\n",
      "\"calories\": 206,\n",
      "\"unit_of_measure\": \"100 grams\"\n",
      "}\n",
      "}\n",
      "{'Apple': {'calories': 95, 'unit_of_measure': 'medium-sized'}, 'Avocado': {'calories': 234, 'unit_of_measure': 'medium-sized'}, 'Chicken Breast': {'calories': 165, 'unit_of_measure': '100 grams'}, 'Broccoli': {'calories': 31, 'unit_of_measure': 'per cup, chopped'}, 'Almonds': {'calories': 161, 'unit_of_measure': 'ounce'}, 'Salmon': {'calories': 206, 'unit_of_measure': '100 grams'}}\n",
      "ChatCompletion(id='fa11e2d5-ed55-4aa3-b4e6-bd3d4816368c', choices=[Choice(finish_reason='stop', index=0, logprobs=None, message=ChatCompletionMessage(content='{\\n\"Apple\": {\\n\"calories\": 95,\\n\"unit_of_measure\": \"medium-sized\"\\n},\\n\"Avocado\": {\\n\"calories\": 234,\\n\"unit_of_measure\": \"medium-sized\"\\n},\\n\"Chicken Breast\": {\\n\"calories\": 165,\\n\"unit_of_measure\": \"100 grams\"\\n},\\n\"Broccoli\": {\\n\"calories\": 31,\\n\"unit_of_measure\": \"per cup, chopped\"\\n},\\n\"Almonds\": {\\n\"calories\": 161,\\n\"unit_of_measure\": \"ounce\"\\n},\\n\"Salmon\": {\\n\"calories\": 206,\\n\"unit_of_measure\": \"100 grams\"\\n}\\n}', role='assistant', function_call=None, tool_calls=None))], created=1713407996, model='dbrx-instruct-032724', object='chat.completion', system_fingerprint=None, usage=CompletionUsage(completion_tokens=134, prompt_tokens=41, total_tokens=175))\n"
     ]
    }
   ],
   "source": [
    "from openai import OpenAI\n",
    "import os\n",
    "import json\n",
    "from dotenv import load_dotenv\n",
    "\n",
    "load_dotenv()\n",
    "        \n",
    "DATABRICKS_TOKEN = os.environ.get('DATABRICKS_TOKEN')\n",
    "        \n",
    "client = OpenAI(\n",
    "  api_key=DATABRICKS_TOKEN,\n",
    "  base_url=\"https://adb-7510379599932114.14.azuredatabricks.net/serving-endpoints\"\n",
    ")\n",
    "        \n",
    "chat_completion = client.chat.completions.create(\n",
    "  messages=[\n",
    "  {\n",
    "    \"role\": \"system\",\n",
    "    \"content\": \"You are an AI assistant\"\n",
    "  },\n",
    "  {\n",
    "    \"role\": \"user\",\n",
    "    \"content\": \"make a short list of favorite foods with caloric measures by unit of measure for each. Respond using JSON only.\"\n",
    "  }\n",
    "  ],\n",
    "  model=\"databricks-dbrx-instruct\",\n",
    "  max_tokens=256,\n",
    "  temperature=0\n",
    "  #stream=False\n",
    ")\n",
    "        \n",
    "print(chat_completion.choices[0].message.content)\n",
    "\n",
    "jl = json.loads(chat_completion.choices[0].message.content)\n",
    "print(jl) \n",
    "\n",
    "print(chat_completion)"
   ]
  },
  {
   "cell_type": "code",
   "execution_count": 1,
   "metadata": {},
   "outputs": [
    {
     "name": "stdout",
     "output_type": "stream",
     "text": [
      "Life is a complex and multifaceted phenomenon, characterized by the ability of organisms to grow, reproduce, respond to stimuli,\n"
     ]
    }
   ],
   "source": [
    "import llm\n",
    "a = llm.Databricks()\n",
    "x  = a.get_chatresponse(prompt=\"What is life? keep it short\", max_tokens=25, temperature=0)\n",
    "print(x)"
   ]
  }
 ],
 "metadata": {
  "kernelspec": {
   "display_name": "my_python_dev",
   "language": "python",
   "name": "python3"
  },
  "language_info": {
   "codemirror_mode": {
    "name": "ipython",
    "version": 3
   },
   "file_extension": ".py",
   "mimetype": "text/x-python",
   "name": "python",
   "nbconvert_exporter": "python",
   "pygments_lexer": "ipython3",
   "version": "3.11.9"
  }
 },
 "nbformat": 4,
 "nbformat_minor": 2
}
