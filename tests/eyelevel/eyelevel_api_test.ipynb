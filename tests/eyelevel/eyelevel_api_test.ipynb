{
 "cells": [
  {
   "cell_type": "code",
   "execution_count": null,
   "metadata": {},
   "outputs": [],
   "source": [
    "import os\n",
    "from pprint import pprint\n",
    "from groundx import Groundx, ApiException\n",
    "from dotenv import load_dotenv\n",
    "\n",
    "load_dotenv()\n",
    "EYE_LEVEL_API_KEY = os.getenv('EYE_LEVEL_API_KEY')\n",
    "\n",
    "print(EYE_LEVEL_API_KEY)\n",
    "\n",
    "groundx = Groundx(\n",
    "    #api_key='08011f65-3be8-4c90-8edb-e7921febea7c'\n",
    "    api_key=EYE_LEVEL_API_KEY,\n",
    "\n",
    ")\n",
    "\n",
    "response = groundx.buckets.list()\n",
    "pprint(response.body)\n",
    "\n",
    "try:\n",
    "    create_response = groundx.buckets.create(\n",
    "            name=\"bucket1\"\n",
    "        )\n",
    "except ApiException as e:\n",
    "    print(e)\n",
    "\n",
    "create_response = groundx.buckets.create(\n",
    "    name=\"bucket2\"\n",
    ")\n",
    "\n",
    "response = groundx.buckets.list()\n",
    "pprint(response.body)\n",
    "\n",
    "\n",
    "\n"
   ]
  },
  {
   "cell_type": "code",
   "execution_count": 22,
   "metadata": {},
   "outputs": [
    {
     "name": "stdout",
     "output_type": "stream",
     "text": [
      "{'buckets': [{'bucketId': 7881,\n",
      "              'created': '2024-03-13T16:25:43Z',\n",
      "              'fileCount': 24,\n",
      "              'fileSize': '607 KB',\n",
      "              'fileTokens': 113214,\n",
      "              'name': 'CI solutions',\n",
      "              'updated': '2024-03-13T16:29:04Z'},\n",
      "             {'bucketId': 7880,\n",
      "              'created': '2024-03-13T16:21:50Z',\n",
      "              'fileCount': 11,\n",
      "              'fileSize': '43 KB',\n",
      "              'fileTokens': 8653,\n",
      "              'name': 'CI Website',\n",
      "              'updated': '2024-03-13T16:23:03Z'}],\n",
      " 'count': 2,\n",
      " 'nextToken': 'Nzg4MA=='}\n"
     ]
    }
   ],
   "source": [
    "response = groundx.buckets.list()\n",
    "pprint(response.body)"
   ]
  },
  {
   "cell_type": "code",
   "execution_count": 43,
   "metadata": {},
   "outputs": [
    {
     "name": "stdout",
     "output_type": "stream",
     "text": [
      "<class 'dict'>\n",
      "buckets\n",
      "count\n",
      "nextToken\n",
      "{'buckets': [{'created': '2024-03-13T16:25:43Z', 'fileCount': 24, 'fileSize': '607 KB', 'fileTokens': 113214, 'bucketId': 7881, 'name': 'CI solutions', 'updated': '2024-03-13T16:29:04Z'}, {'created': '2024-03-13T16:21:50Z', 'fileCount': 11, 'fileSize': '43 KB', 'fileTokens': 8653, 'bucketId': 7880, 'name': 'CI Website', 'updated': '2024-03-13T16:23:03Z'}], 'count': 2, 'nextToken': 'Nzg4MA=='}\n",
      "7881 CI solutions\n",
      "7880 CI Website\n",
      "{'CI solutions': 7881, 'CI Website': 7880}\n",
      "7881 CI solutions\n",
      "7880 CI Website\n",
      "7881\n"
     ]
    }
   ],
   "source": [
    "print(type(response.body))\n",
    "\n",
    "for keys in response.body:\n",
    "    print(keys)\n",
    "print(response.body)\n",
    "\n",
    "d={}\n",
    "for bucket in response.body['buckets']:\n",
    "    print(bucket['bucketId'], bucket['name'])\n",
    "    d[bucket['name']]=bucket['bucketId']\n",
    "\n",
    "print(d)\n",
    "\n",
    "def get_bucket(groundx, name):\n",
    "    response = groundx.buckets.list()\n",
    "\n",
    "    try:\n",
    "        d={}\n",
    "        for bucket in response.body['buckets']:\n",
    "            print(bucket['bucketId'], bucket['name'])\n",
    "            d[bucket['name']]=bucket['bucketId']\n",
    "    except ApiException as e:\n",
    "        print(e)\n",
    "    \n",
    "    try:\n",
    "        return d[name]\n",
    "    except KeyError as k:\n",
    "        return None\n",
    "    \n",
    "id = get_bucket(groundx, 'CI solutions')\n",
    "print(id)\n",
    "    \n",
    "\n",
    "        \n"
   ]
  },
  {
   "cell_type": "code",
   "execution_count": null,
   "metadata": {},
   "outputs": [],
   "source": [
    "response = groundx.documents.upload_local(\n",
    "    documents=[\n",
    "        {\n",
    "            \"bucketId\": 7881,\n",
    "            \"fileType\": \"pdf\",\n",
    "            \"fileName\": \"/Users/charlesrussell/files/Clm104c-01.pdf\",\n",
    "            \"searchData\": {\n",
    "                \"chapter\": \"1\"\n",
    "            }\n",
    "        }\n",
    "    ]\n",
    ")"
   ]
  },
  {
   "cell_type": "code",
   "execution_count": 21,
   "metadata": {},
   "outputs": [
    {
     "ename": "FileNotFoundError",
     "evalue": "[Errno 2] No such file or directory: '/Users/charlesrussell/files/Clm104c-01.pdf'",
     "output_type": "error",
     "traceback": [
      "\u001b[0;31m---------------------------------------------------------------------------\u001b[0m",
      "\u001b[0;31mFileNotFoundError\u001b[0m                         Traceback (most recent call last)",
      "Cell \u001b[0;32mIn[21], line 2\u001b[0m\n\u001b[1;32m      1\u001b[0m response \u001b[38;5;241m=\u001b[39m groundx\u001b[38;5;241m.\u001b[39mdocuments\u001b[38;5;241m.\u001b[39mupload_local([{\n\u001b[0;32m----> 2\u001b[0m     \u001b[38;5;124m\"\u001b[39m\u001b[38;5;124mblob\u001b[39m\u001b[38;5;124m\"\u001b[39m: \u001b[38;5;28;43mopen\u001b[39;49m\u001b[43m(\u001b[49m\u001b[38;5;124;43m\"\u001b[39;49m\u001b[38;5;124;43m/Users/charlesrussell/files/Clm104c-01.pdf\u001b[39;49m\u001b[38;5;124;43m\"\u001b[39;49m\u001b[43m,\u001b[49m\u001b[43m \u001b[49m\u001b[38;5;124;43m\"\u001b[39;49m\u001b[38;5;124;43mrb\u001b[39;49m\u001b[38;5;124;43m\"\u001b[39;49m\u001b[43m)\u001b[49m,\n\u001b[1;32m      3\u001b[0m     \u001b[38;5;124m\"\u001b[39m\u001b[38;5;124mmetadata\u001b[39m\u001b[38;5;124m\"\u001b[39m: {\n\u001b[1;32m      4\u001b[0m         \u001b[38;5;124m\"\u001b[39m\u001b[38;5;124mbucketId\u001b[39m\u001b[38;5;124m\"\u001b[39m: \u001b[38;5;241m7881\u001b[39m,\n\u001b[1;32m      5\u001b[0m         \u001b[38;5;124m\"\u001b[39m\u001b[38;5;124mfileName\u001b[39m\u001b[38;5;124m\"\u001b[39m: \u001b[38;5;124m\"\u001b[39m\u001b[38;5;124mClm104c-01.pdf\u001b[39m\u001b[38;5;124m\"\u001b[39m,\n\u001b[1;32m      6\u001b[0m         \u001b[38;5;124m\"\u001b[39m\u001b[38;5;124mfileType\u001b[39m\u001b[38;5;124m\"\u001b[39m: \u001b[38;5;124m\"\u001b[39m\u001b[38;5;124mpdf\u001b[39m\u001b[38;5;124m\"\u001b[39m\n\u001b[1;32m      7\u001b[0m     }\n\u001b[1;32m      8\u001b[0m }])\n\u001b[1;32m      9\u001b[0m pprint(response\u001b[38;5;241m.\u001b[39mbody)\n",
      "File \u001b[0;32m/opt/my_python_dev/lib/python3.11/site-packages/IPython/core/interactiveshell.py:324\u001b[0m, in \u001b[0;36m_modified_open\u001b[0;34m(file, *args, **kwargs)\u001b[0m\n\u001b[1;32m    317\u001b[0m \u001b[38;5;28;01mif\u001b[39;00m file \u001b[38;5;129;01min\u001b[39;00m {\u001b[38;5;241m0\u001b[39m, \u001b[38;5;241m1\u001b[39m, \u001b[38;5;241m2\u001b[39m}:\n\u001b[1;32m    318\u001b[0m     \u001b[38;5;28;01mraise\u001b[39;00m \u001b[38;5;167;01mValueError\u001b[39;00m(\n\u001b[1;32m    319\u001b[0m         \u001b[38;5;124mf\u001b[39m\u001b[38;5;124m\"\u001b[39m\u001b[38;5;124mIPython won\u001b[39m\u001b[38;5;124m'\u001b[39m\u001b[38;5;124mt let you open fd=\u001b[39m\u001b[38;5;132;01m{\u001b[39;00mfile\u001b[38;5;132;01m}\u001b[39;00m\u001b[38;5;124m by default \u001b[39m\u001b[38;5;124m\"\u001b[39m\n\u001b[1;32m    320\u001b[0m         \u001b[38;5;124m\"\u001b[39m\u001b[38;5;124mas it is likely to crash IPython. If you know what you are doing, \u001b[39m\u001b[38;5;124m\"\u001b[39m\n\u001b[1;32m    321\u001b[0m         \u001b[38;5;124m\"\u001b[39m\u001b[38;5;124myou can use builtins\u001b[39m\u001b[38;5;124m'\u001b[39m\u001b[38;5;124m open.\u001b[39m\u001b[38;5;124m\"\u001b[39m\n\u001b[1;32m    322\u001b[0m     )\n\u001b[0;32m--> 324\u001b[0m \u001b[38;5;28;01mreturn\u001b[39;00m \u001b[43mio_open\u001b[49m\u001b[43m(\u001b[49m\u001b[43mfile\u001b[49m\u001b[43m,\u001b[49m\u001b[43m \u001b[49m\u001b[38;5;241;43m*\u001b[39;49m\u001b[43margs\u001b[49m\u001b[43m,\u001b[49m\u001b[43m \u001b[49m\u001b[38;5;241;43m*\u001b[39;49m\u001b[38;5;241;43m*\u001b[39;49m\u001b[43mkwargs\u001b[49m\u001b[43m)\u001b[49m\n",
      "\u001b[0;31mFileNotFoundError\u001b[0m: [Errno 2] No such file or directory: '/Users/charlesrussell/files/Clm104c-01.pdf'"
     ]
    }
   ],
   "source": [
    "\n",
    "\n",
    "response = groundx.documents.upload_local([{\n",
    "    \"blob\": open(\"/Users/charlesrussell/files/Clm104c-01.pdf\", \"rb\"),\n",
    "    \"metadata\": {\n",
    "        \"bucketId\": 7881,\n",
    "        \"fileName\": \"Clm104c-01.pdf\",\n",
    "        \"fileType\": \"pdf\"\n",
    "    }\n",
    "}])\n",
    "pprint(response.body)"
   ]
  }
 ],
 "metadata": {
  "kernelspec": {
   "display_name": "my_python_dev",
   "language": "python",
   "name": "python3"
  },
  "language_info": {
   "codemirror_mode": {
    "name": "ipython",
    "version": 3
   },
   "file_extension": ".py",
   "mimetype": "text/x-python",
   "name": "python",
   "nbconvert_exporter": "python",
   "pygments_lexer": "ipython3",
   "version": "3.11.9"
  }
 },
 "nbformat": 4,
 "nbformat_minor": 2
}
