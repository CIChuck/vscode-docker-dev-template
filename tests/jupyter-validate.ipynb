{
 "cells": [
  {
   "cell_type": "markdown",
   "metadata": {},
   "source": [
    "## Test package installs"
   ]
  },
  {
   "cell_type": "code",
   "execution_count": 1,
   "metadata": {},
   "outputs": [
    {
     "name": "stdout",
     "output_type": "stream",
     "text": [
      "2024-04-09 12:29:45.595968\n",
      "Current date and time:2024-04-09 12:29:45\n"
     ]
    }
   ],
   "source": [
    "import pandas as pd\n",
    "import numpy as np\n",
    "import openai\n",
    "import weaviate\n",
    "import autogen\n",
    "\n",
    "\n",
    "# general functions\n",
    "import datetime\n",
    "def time_stamp():\n",
    "    current_date_and_time = datetime.datetime.now()\n",
    "    print(current_date_and_time)\n",
    "    formatted_date_and_time = current_date_and_time.strftime(\"%Y-%m-%d %H:%M:%S\")\n",
    "    return f\"Current date and time:{formatted_date_and_time}\"\n",
    "\n",
    "print(time_stamp())"
   ]
  },
  {
   "cell_type": "markdown",
   "metadata": {},
   "source": [
    "## Test python runtime"
   ]
  },
  {
   "cell_type": "code",
   "execution_count": 2,
   "metadata": {},
   "outputs": [
    {
     "name": "stdout",
     "output_type": "stream",
     "text": [
      "Hello World.....!\n",
      "2024-04-09 12:29:45.606274\n",
      "Current date and time:2024-04-09 12:29:45\n"
     ]
    }
   ],
   "source": [
    "print(\"Hello World.....!\")\n",
    "print(time_stamp())"
   ]
  },
  {
   "cell_type": "markdown",
   "metadata": {},
   "source": [
    "## Test Environment via .env"
   ]
  },
  {
   "cell_type": "code",
   "execution_count": 3,
   "metadata": {},
   "outputs": [
    {
     "name": "stdout",
     "output_type": "stream",
     "text": [
      "OPEN_API_KEY: 1234567890\n",
      "2024-04-09 12:29:45.618882\n",
      "Current date and time:2024-04-09 12:29:45\n"
     ]
    }
   ],
   "source": [
    "import os\n",
    "import datetime as dt\n",
    "from dotenv import load_dotenv\n",
    "\n",
    "load_dotenv()\n",
    "\n",
    "OPENAI_API_KEY = os.getenv('OPENAI_API')\n",
    "\n",
    "\n",
    "print(f\"OPEN_API_KEY: {OPENAI_API_KEY}\")\n",
    "print(time_stamp())"
   ]
  },
  {
   "cell_type": "markdown",
   "metadata": {},
   "source": [
    "## Test Streamlit\n",
    " run 'streamlit hello' in docker terminal"
   ]
  },
  {
   "cell_type": "code",
   "execution_count": 4,
   "metadata": {},
   "outputs": [],
   "source": [
    "# !streamlit hello\n",
    "# streamlit run ./tests/st-test2.py  --server.address 127.0.0.1 --server.port 8051"
   ]
  }
 ],
 "metadata": {
  "kernelspec": {
   "display_name": "my_python_dev",
   "language": "python",
   "name": "python3"
  },
  "language_info": {
   "codemirror_mode": {
    "name": "ipython",
    "version": 3
   },
   "file_extension": ".py",
   "mimetype": "text/x-python",
   "name": "python",
   "nbconvert_exporter": "python",
   "pygments_lexer": "ipython3",
   "version": "3.11.9"
  }
 },
 "nbformat": 4,
 "nbformat_minor": 2
}
