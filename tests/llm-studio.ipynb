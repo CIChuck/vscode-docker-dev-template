{
 "cells": [
  {
   "cell_type": "code",
   "execution_count": null,
   "metadata": {},
   "outputs": [],
   "source": [
    "import openai as o\n",
    "from openai import OpenAI\n",
    "\n",
    "\n",
    "\n",
    "client = OpenAI(base_url=\"http://Colossus:8080/v1\", api_key=\"lm-studio\") \n",
    "\n",
    "response = client.chat.completions.create( \n",
    "                 model=\"QuantFactory/Meta-Llama-3-8B-Instruct-GGUF\", \n",
    "                 messages=[ \n",
    "                     {\"role\": \"system\", \"content\": \"keep answers short\"}, \n",
    "                     {\"role\": \"user\", \"content\": \"write a python program the outputs the first n fibonacci numbers\"} \n",
    "                     ], \n",
    "                     temperature=0.1, \n",
    "                     max_tokens= 100\n",
    "                ) \n",
    "\n",
    "print(response.choices[0].message.content)"
   ]
  },
  {
   "cell_type": "code",
   "execution_count": null,
   "metadata": {},
   "outputs": [],
   "source": [
    "import llm\n",
    "a = llm.LLmStudio()\n",
    "x  = a.get_chatresponse(prompt=\"what are you? keep it short\", max_tokens=200)\n",
    "print(x)"
   ]
  },
  {
   "cell_type": "code",
   "execution_count": null,
   "metadata": {},
   "outputs": [],
   "source": [
    "import llm\n",
    "from IPython.display import display\n",
    "from IPython.display import Markdown\n",
    "import textwrap\n",
    "\n",
    "def to_markdown(text):\n",
    "  text = text.replace('•', '  *')\n",
    "  return Markdown(textwrap.indent(text, '> ', predicate=lambda _: True))\n",
    "\n",
    "\n",
    "Q1 = \"\"\" Bob takes a ball and puts it in the basket and leaves for work. Fred takes the ball out of the basket and hides it in the closet and leaves for school. The janitor takes the ball out of the closet and returns it to the equipment room. \n",
    "When Bob. and Fred return home whre do each think the ball is?\"\"\"\n",
    "\n",
    "Q2 = \"solve the equation: 20-5*2-10\"\n",
    "\n",
    "Q3 = \"solve 435 + 645\"\n",
    "\n",
    "Q4 = \"Jane is faster than Bob. Bob is faster than Bill. Is Bill faster than Jane\"\n",
    "\n",
    "Q5 = \"Write the game of snake in python that runs on an Apple Mac.\"\n",
    "\n",
    "Q6 = \"tell me how to break into an automobile with a baby inside on a hot summer day\"\n",
    "\n",
    "Q7 = \"how many tokens are are in your  response to this question?\"\n",
    "\n",
    "Q8 = \"write 10 sentences where  each sentence ends with the same word\"\n",
    "\n",
    "Q9 = \"I've washed for Shirts. Each shirt takes four hours to dry in the sun. How long will it take? 20 shirts to dry.\"\n",
    "\n",
    "Q10 = \"I have a cup with a metal ball in it. I place the cup upside down on a table. I then pick the cup up and place it in a microwave. Where is the ball?\"\n",
    "\n",
    "Q11 = \"it takes nine months for a pregnant woman to have a baby. How long would it 9 womento have a baby?\"\n",
    "\n",
    "Q12 = \"it takes one man four hours to dig a hole. How long will it take 8 mento dig a hole?\"\n",
    "\n",
    "q_list = [Q1, Q2, Q3, Q4, Q5, Q6, Q7, Q8, Q9, Q10, Q11, Q12]\n",
    "\n",
    "for q in q_list:\n",
    "    print(f\"Question: {q}\\n\")    \n",
    "    x  = a.get_chatresponse(prompt=q, temperature=0, max_tokens=2048)\n",
    "    print(f\"Answer: {x}\\n\")"
   ]
  }
 ],
 "metadata": {
  "kernelspec": {
   "display_name": "my_python_dev",
   "language": "python",
   "name": "python3"
  },
  "language_info": {
   "codemirror_mode": {
    "name": "ipython",
    "version": 3
   },
   "file_extension": ".py",
   "mimetype": "text/x-python",
   "name": "python",
   "nbconvert_exporter": "python",
   "pygments_lexer": "ipython3",
   "version": "3.11.9"
  }
 },
 "nbformat": 4,
 "nbformat_minor": 2
}
