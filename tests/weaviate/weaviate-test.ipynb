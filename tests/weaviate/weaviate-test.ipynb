{
 "cells": [
  {
   "cell_type": "code",
   "execution_count": 2,
   "metadata": {},
   "outputs": [],
   "source": [
    "!pip install dspy-ai==2.1.9 weaviate-client==3.26.2 > /dev/null"
   ]
  },
  {
   "cell_type": "code",
   "execution_count": 4,
   "metadata": {},
   "outputs": [
    {
     "name": "stdout",
     "output_type": "stream",
     "text": [
      "Requirement already satisfied: dspy-ai[weaviate] in /opt/my_python_dev/lib/python3.11/site-packages (2.1.9)\n",
      "Requirement already satisfied: backoff~=2.2.1 in /opt/my_python_dev/lib/python3.11/site-packages (from dspy-ai[weaviate]) (2.2.1)\n",
      "Requirement already satisfied: joblib~=1.3.2 in /opt/my_python_dev/lib/python3.11/site-packages (from dspy-ai[weaviate]) (1.3.2)\n",
      "Requirement already satisfied: openai<2.0.0,>=0.28.1 in /opt/my_python_dev/lib/python3.11/site-packages (from dspy-ai[weaviate]) (1.19.0)\n",
      "Requirement already satisfied: pandas~=2.1.1 in /opt/my_python_dev/lib/python3.11/site-packages (from dspy-ai[weaviate]) (2.1.4)\n",
      "Requirement already satisfied: regex~=2023.10.3 in /opt/my_python_dev/lib/python3.11/site-packages (from dspy-ai[weaviate]) (2023.10.3)\n",
      "Requirement already satisfied: ujson~=5.8.0 in /opt/my_python_dev/lib/python3.11/site-packages (from dspy-ai[weaviate]) (5.8.0)\n",
      "Requirement already satisfied: tqdm~=4.66.1 in /opt/my_python_dev/lib/python3.11/site-packages (from dspy-ai[weaviate]) (4.66.2)\n",
      "Requirement already satisfied: datasets~=2.14.6 in /opt/my_python_dev/lib/python3.11/site-packages (from dspy-ai[weaviate]) (2.14.7)\n",
      "Requirement already satisfied: requests~=2.31.0 in /opt/my_python_dev/lib/python3.11/site-packages (from dspy-ai[weaviate]) (2.31.0)\n",
      "Requirement already satisfied: optuna~=3.4.0 in /opt/my_python_dev/lib/python3.11/site-packages (from dspy-ai[weaviate]) (3.4.0)\n",
      "Requirement already satisfied: weaviate-client~=3.26.1 in /opt/my_python_dev/lib/python3.11/site-packages (from dspy-ai[weaviate]) (3.26.2)\n",
      "Requirement already satisfied: numpy>=1.17 in /opt/my_python_dev/lib/python3.11/site-packages (from datasets~=2.14.6->dspy-ai[weaviate]) (1.26.4)\n",
      "Requirement already satisfied: pyarrow>=8.0.0 in /opt/my_python_dev/lib/python3.11/site-packages (from datasets~=2.14.6->dspy-ai[weaviate]) (15.0.2)\n",
      "Requirement already satisfied: pyarrow-hotfix in /opt/my_python_dev/lib/python3.11/site-packages (from datasets~=2.14.6->dspy-ai[weaviate]) (0.6)\n",
      "Requirement already satisfied: dill<0.3.8,>=0.3.0 in /opt/my_python_dev/lib/python3.11/site-packages (from datasets~=2.14.6->dspy-ai[weaviate]) (0.3.7)\n",
      "Requirement already satisfied: xxhash in /opt/my_python_dev/lib/python3.11/site-packages (from datasets~=2.14.6->dspy-ai[weaviate]) (3.4.1)\n",
      "Requirement already satisfied: multiprocess in /opt/my_python_dev/lib/python3.11/site-packages (from datasets~=2.14.6->dspy-ai[weaviate]) (0.70.15)\n",
      "Requirement already satisfied: fsspec<=2023.10.0,>=2023.1.0 in /opt/my_python_dev/lib/python3.11/site-packages (from fsspec[http]<=2023.10.0,>=2023.1.0->datasets~=2.14.6->dspy-ai[weaviate]) (2023.10.0)\n",
      "Requirement already satisfied: aiohttp in /opt/my_python_dev/lib/python3.11/site-packages (from datasets~=2.14.6->dspy-ai[weaviate]) (3.9.4)\n",
      "Requirement already satisfied: huggingface-hub<1.0.0,>=0.14.0 in /opt/my_python_dev/lib/python3.11/site-packages (from datasets~=2.14.6->dspy-ai[weaviate]) (0.22.2)\n",
      "Requirement already satisfied: packaging in /opt/my_python_dev/lib/python3.11/site-packages (from datasets~=2.14.6->dspy-ai[weaviate]) (23.2)\n",
      "Requirement already satisfied: pyyaml>=5.1 in /opt/my_python_dev/lib/python3.11/site-packages (from datasets~=2.14.6->dspy-ai[weaviate]) (6.0.1)\n",
      "Requirement already satisfied: anyio<5,>=3.5.0 in /opt/my_python_dev/lib/python3.11/site-packages (from openai<2.0.0,>=0.28.1->dspy-ai[weaviate]) (4.3.0)\n",
      "Requirement already satisfied: distro<2,>=1.7.0 in /opt/my_python_dev/lib/python3.11/site-packages (from openai<2.0.0,>=0.28.1->dspy-ai[weaviate]) (1.9.0)\n",
      "Requirement already satisfied: httpx<1,>=0.23.0 in /opt/my_python_dev/lib/python3.11/site-packages (from openai<2.0.0,>=0.28.1->dspy-ai[weaviate]) (0.27.0)\n",
      "Requirement already satisfied: pydantic<3,>=1.9.0 in /opt/my_python_dev/lib/python3.11/site-packages (from openai<2.0.0,>=0.28.1->dspy-ai[weaviate]) (2.7.0)\n",
      "Requirement already satisfied: sniffio in /opt/my_python_dev/lib/python3.11/site-packages (from openai<2.0.0,>=0.28.1->dspy-ai[weaviate]) (1.3.1)\n",
      "Requirement already satisfied: typing-extensions<5,>=4.7 in /opt/my_python_dev/lib/python3.11/site-packages (from openai<2.0.0,>=0.28.1->dspy-ai[weaviate]) (4.11.0)\n",
      "Requirement already satisfied: alembic>=1.5.0 in /opt/my_python_dev/lib/python3.11/site-packages (from optuna~=3.4.0->dspy-ai[weaviate]) (1.13.1)\n",
      "Requirement already satisfied: colorlog in /opt/my_python_dev/lib/python3.11/site-packages (from optuna~=3.4.0->dspy-ai[weaviate]) (6.8.2)\n",
      "Requirement already satisfied: sqlalchemy>=1.3.0 in /opt/my_python_dev/lib/python3.11/site-packages (from optuna~=3.4.0->dspy-ai[weaviate]) (2.0.29)\n",
      "Requirement already satisfied: python-dateutil>=2.8.2 in /opt/my_python_dev/lib/python3.11/site-packages (from pandas~=2.1.1->dspy-ai[weaviate]) (2.9.0.post0)\n",
      "Requirement already satisfied: pytz>=2020.1 in /opt/my_python_dev/lib/python3.11/site-packages (from pandas~=2.1.1->dspy-ai[weaviate]) (2024.1)\n",
      "Requirement already satisfied: tzdata>=2022.1 in /opt/my_python_dev/lib/python3.11/site-packages (from pandas~=2.1.1->dspy-ai[weaviate]) (2024.1)\n",
      "Requirement already satisfied: charset-normalizer<4,>=2 in /opt/my_python_dev/lib/python3.11/site-packages (from requests~=2.31.0->dspy-ai[weaviate]) (3.3.2)\n",
      "Requirement already satisfied: idna<4,>=2.5 in /opt/my_python_dev/lib/python3.11/site-packages (from requests~=2.31.0->dspy-ai[weaviate]) (3.7)\n",
      "Requirement already satisfied: urllib3<3,>=1.21.1 in /opt/my_python_dev/lib/python3.11/site-packages (from requests~=2.31.0->dspy-ai[weaviate]) (2.2.1)\n",
      "Requirement already satisfied: certifi>=2017.4.17 in /opt/my_python_dev/lib/python3.11/site-packages (from requests~=2.31.0->dspy-ai[weaviate]) (2024.2.2)\n",
      "Requirement already satisfied: validators<1.0.0,>=0.21.2 in /opt/my_python_dev/lib/python3.11/site-packages (from weaviate-client~=3.26.1->dspy-ai[weaviate]) (0.22.0)\n",
      "Requirement already satisfied: authlib<2.0.0,>=1.2.1 in /opt/my_python_dev/lib/python3.11/site-packages (from weaviate-client~=3.26.1->dspy-ai[weaviate]) (1.3.0)\n",
      "Requirement already satisfied: Mako in /opt/my_python_dev/lib/python3.11/site-packages (from alembic>=1.5.0->optuna~=3.4.0->dspy-ai[weaviate]) (1.3.3)\n",
      "Requirement already satisfied: cryptography in /opt/my_python_dev/lib/python3.11/site-packages (from authlib<2.0.0,>=1.2.1->weaviate-client~=3.26.1->dspy-ai[weaviate]) (42.0.5)\n",
      "Requirement already satisfied: aiosignal>=1.1.2 in /opt/my_python_dev/lib/python3.11/site-packages (from aiohttp->datasets~=2.14.6->dspy-ai[weaviate]) (1.3.1)\n",
      "Requirement already satisfied: attrs>=17.3.0 in /opt/my_python_dev/lib/python3.11/site-packages (from aiohttp->datasets~=2.14.6->dspy-ai[weaviate]) (23.2.0)\n",
      "Requirement already satisfied: frozenlist>=1.1.1 in /opt/my_python_dev/lib/python3.11/site-packages (from aiohttp->datasets~=2.14.6->dspy-ai[weaviate]) (1.4.1)\n",
      "Requirement already satisfied: multidict<7.0,>=4.5 in /opt/my_python_dev/lib/python3.11/site-packages (from aiohttp->datasets~=2.14.6->dspy-ai[weaviate]) (6.0.5)\n",
      "Requirement already satisfied: yarl<2.0,>=1.0 in /opt/my_python_dev/lib/python3.11/site-packages (from aiohttp->datasets~=2.14.6->dspy-ai[weaviate]) (1.9.4)\n",
      "Requirement already satisfied: httpcore==1.* in /opt/my_python_dev/lib/python3.11/site-packages (from httpx<1,>=0.23.0->openai<2.0.0,>=0.28.1->dspy-ai[weaviate]) (1.0.5)\n",
      "Requirement already satisfied: h11<0.15,>=0.13 in /opt/my_python_dev/lib/python3.11/site-packages (from httpcore==1.*->httpx<1,>=0.23.0->openai<2.0.0,>=0.28.1->dspy-ai[weaviate]) (0.14.0)\n",
      "Requirement already satisfied: filelock in /opt/my_python_dev/lib/python3.11/site-packages (from huggingface-hub<1.0.0,>=0.14.0->datasets~=2.14.6->dspy-ai[weaviate]) (3.13.4)\n",
      "Requirement already satisfied: annotated-types>=0.4.0 in /opt/my_python_dev/lib/python3.11/site-packages (from pydantic<3,>=1.9.0->openai<2.0.0,>=0.28.1->dspy-ai[weaviate]) (0.6.0)\n",
      "Requirement already satisfied: pydantic-core==2.18.1 in /opt/my_python_dev/lib/python3.11/site-packages (from pydantic<3,>=1.9.0->openai<2.0.0,>=0.28.1->dspy-ai[weaviate]) (2.18.1)\n",
      "Requirement already satisfied: six>=1.5 in /opt/my_python_dev/lib/python3.11/site-packages (from python-dateutil>=2.8.2->pandas~=2.1.1->dspy-ai[weaviate]) (1.16.0)\n",
      "Requirement already satisfied: greenlet!=0.4.17 in /opt/my_python_dev/lib/python3.11/site-packages (from sqlalchemy>=1.3.0->optuna~=3.4.0->dspy-ai[weaviate]) (3.0.3)\n",
      "Requirement already satisfied: cffi>=1.12 in /opt/my_python_dev/lib/python3.11/site-packages (from cryptography->authlib<2.0.0,>=1.2.1->weaviate-client~=3.26.1->dspy-ai[weaviate]) (1.16.0)\n",
      "Requirement already satisfied: MarkupSafe>=0.9.2 in /opt/my_python_dev/lib/python3.11/site-packages (from Mako->alembic>=1.5.0->optuna~=3.4.0->dspy-ai[weaviate]) (2.1.5)\n",
      "Requirement already satisfied: pycparser in /opt/my_python_dev/lib/python3.11/site-packages (from cffi>=1.12->cryptography->authlib<2.0.0,>=1.2.1->weaviate-client~=3.26.1->dspy-ai[weaviate]) (2.22)\n"
     ]
    }
   ],
   "source": [
    "!pip install dspy-ai[weaviate]"
   ]
  },
  {
   "cell_type": "code",
   "execution_count": 5,
   "metadata": {},
   "outputs": [
    {
     "ename": "AttributeError",
     "evalue": "module 'dspy' has no attribute 'Retrieve'",
     "output_type": "error",
     "traceback": [
      "\u001b[0;31m---------------------------------------------------------------------------\u001b[0m",
      "\u001b[0;31mAttributeError\u001b[0m                            Traceback (most recent call last)",
      "Cell \u001b[0;32mIn[5], line 2\u001b[0m\n\u001b[1;32m      1\u001b[0m \u001b[38;5;28;01mimport\u001b[39;00m \u001b[38;5;21;01mdspy\u001b[39;00m\n\u001b[0;32m----> 2\u001b[0m \u001b[38;5;28;01mfrom\u001b[39;00m \u001b[38;5;21;01mdspy\u001b[39;00m\u001b[38;5;21;01m.\u001b[39;00m\u001b[38;5;21;01mretrieve\u001b[39;00m\u001b[38;5;21;01m.\u001b[39;00m\u001b[38;5;21;01mweaviate_rm\u001b[39;00m \u001b[38;5;28;01mimport\u001b[39;00m WeaviateRM \n\u001b[1;32m      3\u001b[0m \u001b[38;5;28;01mimport\u001b[39;00m \u001b[38;5;21;01mweaviate\u001b[39;00m\n\u001b[1;32m      4\u001b[0m \u001b[38;5;28;01mimport\u001b[39;00m \u001b[38;5;21;01mopenai\u001b[39;00m\n",
      "File \u001b[0;32m/opt/my_python_dev/lib/python3.11/site-packages/dspy/retrieve/weaviate_rm.py:15\u001b[0m\n\u001b[1;32m      9\u001b[0m \u001b[38;5;28;01mexcept\u001b[39;00m \u001b[38;5;167;01mImportError\u001b[39;00m:\n\u001b[1;32m     10\u001b[0m     \u001b[38;5;28;01mraise\u001b[39;00m \u001b[38;5;167;01mImportError\u001b[39;00m(\n\u001b[1;32m     11\u001b[0m         \u001b[38;5;124m\"\u001b[39m\u001b[38;5;124mThe \u001b[39m\u001b[38;5;124m'\u001b[39m\u001b[38;5;124mweaviate\u001b[39m\u001b[38;5;124m'\u001b[39m\u001b[38;5;124m extra is required to use WeaviateRM. Install it with `pip install dspy-ai[weaviate]`\u001b[39m\u001b[38;5;124m\"\u001b[39m\n\u001b[1;32m     12\u001b[0m     )\n\u001b[0;32m---> 15\u001b[0m \u001b[38;5;28;01mclass\u001b[39;00m \u001b[38;5;21;01mWeaviateRM\u001b[39;00m(\u001b[43mdspy\u001b[49m\u001b[38;5;241;43m.\u001b[39;49m\u001b[43mRetrieve\u001b[49m):\n\u001b[1;32m     16\u001b[0m \u001b[38;5;250m    \u001b[39m\u001b[38;5;124;03m\"\"\"\u001b[39;00m\n\u001b[1;32m     17\u001b[0m \u001b[38;5;124;03m    A retrieval module that uses Weaviate to return the top passages for a given query.\u001b[39;00m\n\u001b[1;32m     18\u001b[0m \n\u001b[0;32m   (...)\u001b[0m\n\u001b[1;32m     41\u001b[0m \u001b[38;5;124;03m        ```\u001b[39;00m\n\u001b[1;32m     42\u001b[0m \u001b[38;5;124;03m    \"\"\"\u001b[39;00m\n\u001b[1;32m     44\u001b[0m     \u001b[38;5;28;01mdef\u001b[39;00m \u001b[38;5;21m__init__\u001b[39m(\u001b[38;5;28mself\u001b[39m, \n\u001b[1;32m     45\u001b[0m                  weaviate_collection_name: \u001b[38;5;28mstr\u001b[39m, \n\u001b[1;32m     46\u001b[0m                  weaviate_client: weaviate\u001b[38;5;241m.\u001b[39mClient, \n\u001b[1;32m     47\u001b[0m                  k: \u001b[38;5;28mint\u001b[39m \u001b[38;5;241m=\u001b[39m \u001b[38;5;241m3\u001b[39m\n\u001b[1;32m     48\u001b[0m         ):\n",
      "\u001b[0;31mAttributeError\u001b[0m: module 'dspy' has no attribute 'Retrieve'"
     ]
    }
   ],
   "source": [
    "import dspy\n",
    "from dspy.retrieve.weaviate_rm import WeaviateRM \n",
    "import weaviate\n",
    "import openai\n",
    "import os\n",
    "\n",
    "from dotenv import load_dotenv\n",
    "load_dotenv()\n",
    "\n",
    "OPENAI_API_KEY = os.getenv('OPENAI_API_KEY')\n",
    "\n",
    "\n",
    "llm = dspy.OpenAI(model=\"gpt-3.5-turbo\")\n",
    "\n",
    "weaviate_client = weaviate.Client(\"http://localhost:8080\")\n",
    "retriever_model = WeaviateRM(\"WeaviateBlogChunk\", weaviate_client=weaviate_client)\n",
    "# Assumes the Weaviate collection has a text key `content`\n",
    "dspy.settings.configure(lm=llm, rm=retriever_model)\n",
    "\n",
    "print(dspy.settings.lm(\"Write a 3 line poem about neural networks.\"))\n",
    "context_example = dspy.OpenAI(model=\"gpt-4\")\n",
    "\n",
    "with dspy.context(llm=context_example):\n",
    "    print(context_example(\"Write a 3 line poem about neural networks.\"))\n"
   ]
  }
 ],
 "metadata": {
  "kernelspec": {
   "display_name": "my_python_dev",
   "language": "python",
   "name": "python3"
  },
  "language_info": {
   "codemirror_mode": {
    "name": "ipython",
    "version": 3
   },
   "file_extension": ".py",
   "mimetype": "text/x-python",
   "name": "python",
   "nbconvert_exporter": "python",
   "pygments_lexer": "ipython3",
   "version": "3.11.9"
  }
 },
 "nbformat": 4,
 "nbformat_minor": 2
}
